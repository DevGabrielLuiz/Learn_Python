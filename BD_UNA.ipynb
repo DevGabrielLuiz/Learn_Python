{
 "cells": [
  {
   "cell_type": "markdown",
   "metadata": {},
   "source": [
    "1 - Crie um banco de dados"
   ]
  },
  {
   "cell_type": "code",
   "execution_count": 1,
   "metadata": {},
   "outputs": [],
   "source": [
    "import sqlite3 as sql\n",
    "BD_ESCOLA = sql.connect('BD_ESCOLA.db')\n",
    "cursor = BD_ESCOLA.cursor()"
   ]
  },
  {
   "cell_type": "markdown",
   "metadata": {},
   "source": [
    "EXCLUINDO QUANDO HOUVER ERRO"
   ]
  },
  {
   "cell_type": "code",
   "execution_count": 36,
   "metadata": {},
   "outputs": [],
   "source": [
    "cursor.execute('DROP TABLE cursos')\n",
    "cursor.execute('DROP TABLE alunos')\n",
    "BD_ESCOLA.commit()"
   ]
  },
  {
   "cell_type": "markdown",
   "metadata": {},
   "source": [
    "2 - Crie uma tabela chamada 'cursos' para armazenar informações sobre os cursos.                                        \n",
    "A tabela deve ter uma coluna id que será a chave primária e outra com o nome do curso."
   ]
  },
  {
   "cell_type": "code",
   "execution_count": 37,
   "metadata": {},
   "outputs": [],
   "source": [
    "cursor.execute('''CREATE TABLE IF NOT EXISTS cursos (id INTEGER PRIMARY KEY AUTOINCREMENT, nome_curso TEXT NOT NULL)''')\n",
    "BD_ESCOLA.commit()"
   ]
  },
  {
   "cell_type": "markdown",
   "metadata": {},
   "source": [
    "3 - Insira alguns registros na tabela 'cursos'"
   ]
  },
  {
   "cell_type": "code",
   "execution_count": 38,
   "metadata": {},
   "outputs": [],
   "source": [
    "cursor.execute(\"INSERT INTO cursos (nome_curso) VALUES (?)\", (\"Modelagem de Software\",))\n",
    "cursor.execute(\"INSERT INTO cursos (nome_curso) VALUES (?)\", (\"Vida e Carreira\",))\n",
    "cursor.execute(\"INSERT INTO cursos (nome_curso) VALUES (?)\", (\"Soluções Computacionais\",))\n",
    "cursor.execute(\"INSERT INTO cursos (nome_curso) VALUES (?)\", (\"Ambientes Virtuais\",))\n",
    "BD_ESCOLA.commit()\n"
   ]
  },
  {
   "cell_type": "code",
   "execution_count": 39,
   "metadata": {},
   "outputs": [
    {
     "name": "stdout",
     "output_type": "stream",
     "text": [
      "(1, 'Modelagem de Software')\n",
      "(2, 'Vida e Carreira')\n",
      "(3, 'Soluções Computacionais')\n",
      "(4, 'Ambientes Virtuais')\n"
     ]
    }
   ],
   "source": [
    "cursor.execute('''SELECT * FROM cursos ''')\n",
    "dates=cursor.fetchall()\n",
    "for date in dates:\n",
    "    print(date)"
   ]
  },
  {
   "cell_type": "markdown",
   "metadata": {},
   "source": [
    "\n",
    "4 - Crie uma tabela chamada 'alunos' com as seguintes colunas: id, nome, nota e curso_id"
   ]
  },
  {
   "cell_type": "code",
   "execution_count": 40,
   "metadata": {},
   "outputs": [],
   "source": [
    "cursor.execute('''\n",
    "    CREATE TABLE IF NOT EXISTS alunos (\n",
    "        id INTEGER PRIMARY KEY AUTOINCREMENT, \n",
    "        nome TEXT NOT NULL, \n",
    "        nota REAL NOT NULL,\n",
    "        curso_id INTEGER,\n",
    "        FOREIGN KEY (curso_id) REFERENCES cursos(id)\n",
    "    )\n",
    "''')\n",
    "BD_ESCOLA.commit()"
   ]
  },
  {
   "cell_type": "markdown",
   "metadata": {},
   "source": [
    "5 - Insira alguns registros na tabela 'alunos' com referência aos cursos\n",
    "\n"
   ]
  },
  {
   "cell_type": "code",
   "execution_count": 41,
   "metadata": {},
   "outputs": [],
   "source": [
    "cursor.execute('INSERT INTO alunos (nome,nota,curso_id) VALUES (?, ?, ?)', ('Gabriel',10,1))\n",
    "cursor.execute('INSERT INTO alunos (nome,nota,curso_id) VALUES (?, ?, ?)', ('Pedro',8,2))\n",
    "cursor.execute('INSERT INTO alunos (nome,nota,curso_id) VALUES (?, ?, ?)', ('Pablo',5,3))\n",
    "cursor.execute('INSERT INTO alunos (nome,nota,curso_id) VALUES (?, ?, ?)', ('Paulo',4,1))\n",
    "cursor.execute('INSERT INTO alunos (nome,nota,curso_id) VALUES (?, ?, ?)', ('Daniel',6,4))\n",
    "cursor.execute('INSERT INTO alunos (nome,nota,curso_id) VALUES (?, ?, ?)', ('Arthur',5,2))\n",
    "cursor.execute('INSERT INTO alunos (nome,nota,curso_id) VALUES (?, ?, ?)', ('Guilherme',7,4))\n",
    "cursor.execute('INSERT INTO alunos (nome,nota,curso_id) VALUES (?, ?, ?)', ('Eduarda',9,3))\n",
    "BD_ESCOLA.commit()"
   ]
  },
  {
   "cell_type": "code",
   "execution_count": 42,
   "metadata": {},
   "outputs": [
    {
     "name": "stdout",
     "output_type": "stream",
     "text": [
      "(1, 'Gabriel', 10.0, 1)\n",
      "(2, 'Pedro', 8.0, 2)\n",
      "(3, 'Pablo', 5.0, 3)\n",
      "(4, 'Paulo', 4.0, 1)\n",
      "(5, 'Daniel', 6.0, 4)\n",
      "(6, 'Arthur', 5.0, 2)\n",
      "(7, 'Guilherme', 7.0, 4)\n",
      "(8, 'Eduarda', 9.0, 3)\n"
     ]
    }
   ],
   "source": [
    "cursor.execute('''SELECT * FROM alunos''')\n",
    "dates=cursor.fetchall()\n",
    "for date in dates:\n",
    "    print(date)"
   ]
  },
  {
   "cell_type": "markdown",
   "metadata": {},
   "source": [
    "6 - Faça consultas SQL para recuperar informações dos alunos e seus cursos \n",
    "\n",
    "a. Selecione todos os alunos e seus cursos\n",
    "\n",
    "b. Selecione os alunos com notas acima de 7\n",
    "\n",
    "c. Selecione os alunos com nota acima de 7 e seus respectivos cursos\n",
    "\n"
   ]
  },
  {
   "cell_type": "code",
   "execution_count": 43,
   "metadata": {},
   "outputs": [
    {
     "name": "stdout",
     "output_type": "stream",
     "text": [
      "('Gabriel', 'Modelagem de Software')\n",
      "('Pedro', 'Vida e Carreira')\n",
      "('Pablo', 'Soluções Computacionais')\n",
      "('Paulo', 'Modelagem de Software')\n",
      "('Daniel', 'Ambientes Virtuais')\n",
      "('Arthur', 'Vida e Carreira')\n",
      "('Guilherme', 'Ambientes Virtuais')\n",
      "('Eduarda', 'Soluções Computacionais')\n"
     ]
    }
   ],
   "source": [
    "# A)\n",
    "cursor.execute('''\n",
    "    SELECT alunos.nome, cursos.nome_curso \n",
    "    FROM alunos \n",
    "    INNER JOIN cursos ON alunos.curso_id=cursos.id ''')\n",
    "dados = cursor.fetchall()\n",
    "for dado in dados:\n",
    "    print(dado)"
   ]
  },
  {
   "cell_type": "code",
   "execution_count": 44,
   "metadata": {},
   "outputs": [
    {
     "name": "stdout",
     "output_type": "stream",
     "text": [
      "('Gabriel',)\n",
      "('Pedro',)\n",
      "('Eduarda',)\n"
     ]
    }
   ],
   "source": [
    "# B)\n",
    "cursor.execute('SELECT nome FROM alunos WHERE nota>7')\n",
    "dates = cursor.fetchall()\n",
    "for date in dates:\n",
    "    print(date)"
   ]
  },
  {
   "cell_type": "code",
   "execution_count": 46,
   "metadata": {},
   "outputs": [
    {
     "name": "stdout",
     "output_type": "stream",
     "text": [
      "(1, 'Gabriel', 10.0, 1, 1, 'Modelagem de Software')\n",
      "(2, 'Pedro', 8.0, 2, 2, 'Vida e Carreira')\n",
      "(3, 'Pablo', 5.0, 3, 3, 'Soluções Computacionais')\n",
      "(4, 'Paulo', 4.0, 1, 1, 'Modelagem de Software')\n",
      "(5, 'Daniel', 6.0, 4, 4, 'Ambientes Virtuais')\n",
      "(6, 'Arthur', 5.0, 2, 2, 'Vida e Carreira')\n",
      "(7, 'Guilherme', 7.0, 4, 4, 'Ambientes Virtuais')\n",
      "(8, 'Eduarda', 9.0, 3, 3, 'Soluções Computacionais')\n"
     ]
    }
   ],
   "source": [
    "cursor.execute('''SELECT * FROM alunos INNER JOIN cursos ON alunos.curso_id = cursos.id ''')\n",
    "dates=cursor.fetchall()\n",
    "for date in dates:\n",
    "    print(date)"
   ]
  },
  {
   "cell_type": "code",
   "execution_count": 47,
   "metadata": {},
   "outputs": [
    {
     "name": "stdout",
     "output_type": "stream",
     "text": [
      "('Gabriel', 'Modelagem de Software')\n",
      "('Pedro', 'Vida e Carreira')\n",
      "('Eduarda', 'Soluções Computacionais')\n"
     ]
    }
   ],
   "source": [
    "# C)\n",
    "cursor.execute('''\n",
    "               SELECT alunos.nome, cursos.nome_curso \n",
    "               FROM alunos INNER JOIN cursos WHERE NOTA>7 and alunos.curso_id= cursos.id''')\n",
    "dates = cursor.fetchall()\n",
    "for date in dates:\n",
    "    print(date)"
   ]
  },
  {
   "cell_type": "markdown",
   "metadata": {},
   "source": [
    "Listar conteúdo das tabelas\n",
    "\n",
    "7 - Crie um script para alterar a tabela de 'alunos' retirando as colunas nota e curso_id.\n"
   ]
  },
  {
   "cell_type": "code",
   "execution_count": 50,
   "metadata": {},
   "outputs": [
    {
     "ename": "OperationalError",
     "evalue": "near \"CONSTRAINT\": syntax error",
     "output_type": "error",
     "traceback": [
      "\u001b[1;31m---------------------------------------------------------------------------\u001b[0m",
      "\u001b[1;31mOperationalError\u001b[0m                          Traceback (most recent call last)",
      "Cell \u001b[1;32mIn[50], line 1\u001b[0m\n\u001b[1;32m----> 1\u001b[0m \u001b[43mcursor\u001b[49m\u001b[38;5;241;43m.\u001b[39;49m\u001b[43mexecute\u001b[49m\u001b[43m(\u001b[49m\u001b[38;5;124;43m'''\u001b[39;49m\u001b[38;5;124;43mALTER TABLE cursos DROP CONSTRAINT curso_id\u001b[39;49m\u001b[38;5;124;43m'''\u001b[39;49m\u001b[43m)\u001b[49m \u001b[38;5;66;03m# removendo restrição de FK\u001b[39;00m\n\u001b[0;32m      2\u001b[0m \u001b[38;5;66;03m# cursor.execute('''ALTER TABLE alunos DROP COLUMN curso_id''') # Em seguida, remova a coluna\u001b[39;00m\n\u001b[0;32m      3\u001b[0m cursor\u001b[38;5;241m.\u001b[39mexecute(\u001b[38;5;124m'''\u001b[39m\u001b[38;5;124mALTER TABLE alunos DROP COLUMN nota\u001b[39m\u001b[38;5;124m'''\u001b[39m)\n",
      "\u001b[1;31mOperationalError\u001b[0m: near \"CONSTRAINT\": syntax error"
     ]
    }
   ],
   "source": [
    "cursor.execute('''ALTER TABLE cursos DROP CONSTRAINT curso_id''') # removendo restrição de FK\n",
    "# cursor.execute('''ALTER TABLE alunos DROP COLUMN curso_id''') # Em seguida, remova a coluna\n",
    "cursor.execute('''ALTER TABLE alunos DROP COLUMN nota''')\n",
    "BD_ESCOLA.commit()"
   ]
  },
  {
   "cell_type": "markdown",
   "metadata": {},
   "source": [
    "8 - Crie uma tabela 'Disciplinas' para receber as colunas nota e curso_id que devem ser retiradas da tabela alunos e os dados respectivos e adicione uma chave estrangeira para o aluno_id"
   ]
  },
  {
   "cell_type": "code",
   "execution_count": null,
   "metadata": {},
   "outputs": [],
   "source": [
    "cursor.execute('''CREATE TABLE IF NOT EXISTS disciplinas LIKE (nota,curso_id) FROM alunos\n",
    "    INSERT INTO table2\n",
    "(column_name1, column_name2, ...)\n",
    "SELECT column_name1, column_name2, ...\n",
    "FROM table1;\n",
    "    nota DOUBLE NOT NULL, curso_id TEXT NOT NULL\n",
    "    \n",
    "    )''')"
   ]
  },
  {
   "cell_type": "markdown",
   "metadata": {},
   "source": [
    "9 - Atualizar os nomes das disciplinas dos cursos conforme a seguir:\n",
    "\n",
    "1 - Curso de Matemática 1 - FUNDAMENTOS DE ÁLGEBRA 3 - GEOMETRIA PLANA 6 - HISTÓRIA DA MATEMÁTICA\n",
    "2 - Curso de Hstória 2 - HISTÓRIA ANTIGA 5 - HISTÓRIA MODERNA 7 - HISTÓRIA DA IDADE MÉDIA\n",
    "3 - Curso de Ciências 4 - CIENCIAS DA NATUREZA 8 - CIENCIAS FISICAS E QUIMICAS 9 - CIENCIAS BIOLOGICAS"
   ]
  },
  {
   "cell_type": "code",
   "execution_count": null,
   "metadata": {},
   "outputs": [],
   "source": [
    "cursor.execute(''' ''')"
   ]
  },
  {
   "cell_type": "code",
   "execution_count": null,
   "metadata": {},
   "outputs": [],
   "source": [
    "cursor.execute(\"DELETE FROM cursos WHERE nome_curso = ?\", (\"Modelagem\",))\n",
    "cursor.execute(\"SELECT * FROM alunos WHERE nota>6 \")\n",
    "dados = cursor.fetchall()\n",
    "for dado in dados:\n",
    "    print(dado)"
   ]
  },
  {
   "cell_type": "code",
   "execution_count": null,
   "metadata": {},
   "outputs": [],
   "source": [
    "BD_ESCOLA.close()"
   ]
  },
  {
   "cell_type": "code",
   "execution_count": null,
   "metadata": {},
   "outputs": [],
   "source": []
  }
 ],
 "metadata": {
  "kernelspec": {
   "display_name": "Python 3",
   "language": "python",
   "name": "python3"
  },
  "language_info": {
   "codemirror_mode": {
    "name": "ipython",
    "version": 3
   },
   "file_extension": ".py",
   "mimetype": "text/x-python",
   "name": "python",
   "nbconvert_exporter": "python",
   "pygments_lexer": "ipython3",
   "version": "3.12.3"
  }
 },
 "nbformat": 4,
 "nbformat_minor": 2
}
