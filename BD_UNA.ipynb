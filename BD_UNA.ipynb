{
 "cells": [
  {
   "cell_type": "markdown",
   "metadata": {},
   "source": [
    "1 - Crie um banco de dados"
   ]
  },
  {
   "cell_type": "code",
   "execution_count": 2,
   "metadata": {},
   "outputs": [],
   "source": [
    "import sqlite3 as sql\n",
    "BD_ESCOLA = sql.connect('BD_ESCOLA.db')\n",
    "cursor = BD_ESCOLA.cursor()"
   ]
  },
  {
   "cell_type": "markdown",
   "metadata": {},
   "source": [
    "EXCLUINDO QUANDO HOUVER ERRO"
   ]
  },
  {
   "cell_type": "code",
   "execution_count": null,
   "metadata": {},
   "outputs": [],
   "source": [
    "cursor.execute('DROP TABLE cursos')\n",
    "cursor.execute('DROP TABLE alunos')\n",
    "BD_ESCOLA.commit()"
   ]
  },
  {
   "cell_type": "markdown",
   "metadata": {},
   "source": [
    "2 - Crie uma tabela chamada 'cursos' para armazenar informações sobre os cursos.                                        \n",
    "A tabela deve ter uma coluna id que será a chave primária e outra com o nome do curso."
   ]
  },
  {
   "cell_type": "code",
   "execution_count": 36,
   "metadata": {},
   "outputs": [],
   "source": [
    "cursor.execute('''CREATE TABLE IF NOT EXISTS cursos (id INTEGER PRIMARY KEY AUTOINCREMENT, nome_curso TEXT NOT NULL)''')\n",
    "BD_ESCOLA.commit()"
   ]
  },
  {
   "cell_type": "markdown",
   "metadata": {},
   "source": [
    "3 - Insira alguns registros na tabela 'cursos'"
   ]
  },
  {
   "cell_type": "code",
   "execution_count": 37,
   "metadata": {},
   "outputs": [],
   "source": [
    "cursor.execute(\"INSERT INTO cursos (nome_curso) VALUES (?)\", (\"Modelagem de Software\",))\n",
    "cursor.execute(\"INSERT INTO cursos (nome_curso) VALUES (?)\", (\"Vida e Carreira\",))\n",
    "cursor.execute(\"INSERT INTO cursos (nome_curso) VALUES (?)\", (\"Soluções Computacionais\",))\n",
    "cursor.execute(\"INSERT INTO cursos (nome_curso) VALUES (?)\", (\"Ambientes Virtuais\",))\n",
    "BD_ESCOLA.commit()\n"
   ]
  },
  {
   "cell_type": "code",
   "execution_count": null,
   "metadata": {},
   "outputs": [],
   "source": [
    "cursor.execute('''SELECT * FROM cursos ''')\n",
    "dates=cursor.fetchall()\n",
    "for date in dates:\n",
    "    print(date)"
   ]
  },
  {
   "cell_type": "markdown",
   "metadata": {},
   "source": [
    "\n",
    "4 - Crie uma tabela chamada 'alunos' com as seguintes colunas: id, nome, nota e curso_id"
   ]
  },
  {
   "cell_type": "code",
   "execution_count": 39,
   "metadata": {},
   "outputs": [],
   "source": [
    "cursor.execute('''\n",
    "    CREATE TABLE IF NOT EXISTS alunos (\n",
    "        id INTEGER PRIMARY KEY AUTOINCREMENT, \n",
    "        nome TEXT NOT NULL, \n",
    "        nota REAL NOT NULL,\n",
    "        curso_id INTEGER,\n",
    "        FOREIGN KEY (curso_id) REFERENCES cursos(id)\n",
    "    )\n",
    "''')\n",
    "BD_ESCOLA.commit()"
   ]
  },
  {
   "cell_type": "markdown",
   "metadata": {},
   "source": [
    "5 - Insira alguns registros na tabela 'alunos' com referência aos cursos\n",
    "\n"
   ]
  },
  {
   "cell_type": "code",
   "execution_count": 40,
   "metadata": {},
   "outputs": [],
   "source": [
    "cursor.execute('INSERT INTO alunos (nome,nota,curso_id) VALUES (?, ?, ?)', ('Gabriel',10,1))\n",
    "cursor.execute('INSERT INTO alunos (nome,nota,curso_id) VALUES (?, ?, ?)', ('Pedro',8,2))\n",
    "cursor.execute('INSERT INTO alunos (nome,nota,curso_id) VALUES (?, ?, ?)', ('Pablo',5,3))\n",
    "cursor.execute('INSERT INTO alunos (nome,nota,curso_id) VALUES (?, ?, ?)', ('Paulo',4,1))\n",
    "cursor.execute('INSERT INTO alunos (nome,nota,curso_id) VALUES (?, ?, ?)', ('Daniel',6,4))\n",
    "cursor.execute('INSERT INTO alunos (nome,nota,curso_id) VALUES (?, ?, ?)', ('Arthur',5,2))\n",
    "cursor.execute('INSERT INTO alunos (nome,nota,curso_id) VALUES (?, ?, ?)', ('Guilherme',7,4))\n",
    "cursor.execute('INSERT INTO alunos (nome,nota,curso_id) VALUES (?, ?, ?)', ('Eduarda',9,3))\n",
    "BD_ESCOLA.commit()"
   ]
  },
  {
   "cell_type": "code",
   "execution_count": null,
   "metadata": {},
   "outputs": [],
   "source": [
    "cursor.execute('''SELECT * FROM alunos''')\n",
    "dates=cursor.fetchall()\n",
    "for date in dates:\n",
    "    print(date)"
   ]
  },
  {
   "cell_type": "markdown",
   "metadata": {},
   "source": [
    "6 - Faça consultas SQL para recuperar informações dos alunos e seus cursos \n",
    "\n",
    "a. Selecione todos os alunos e seus cursos\n",
    "\n",
    "b. Selecione os alunos com notas acima de 7\n",
    "\n",
    "c. Selecione os alunos com nota acima de 7 e seus respectivos cursos\n",
    "\n"
   ]
  },
  {
   "cell_type": "code",
   "execution_count": null,
   "metadata": {},
   "outputs": [],
   "source": [
    "# MOSTRANDO TUDO\n",
    "cursor.execute('''SELECT * FROM alunos INNER JOIN cursos ON alunos.curso_id = cursos.id ''')\n",
    "dates=cursor.fetchall()\n",
    "for date in dates:\n",
    "    print(date)"
   ]
  },
  {
   "cell_type": "code",
   "execution_count": null,
   "metadata": {},
   "outputs": [],
   "source": [
    "# A)\n",
    "cursor.execute('''\n",
    "    SELECT alunos.nome, cursos.nome_curso \n",
    "    FROM alunos \n",
    "    INNER JOIN cursos ON alunos.curso_id=cursos.id ''')\n",
    "dados = cursor.fetchall()\n",
    "for dado in dados:\n",
    "    print(dado)"
   ]
  },
  {
   "cell_type": "code",
   "execution_count": null,
   "metadata": {},
   "outputs": [],
   "source": [
    "# B)\n",
    "cursor.execute('SELECT nome FROM alunos WHERE nota>7')\n",
    "dates = cursor.fetchall()\n",
    "for date in dates:\n",
    "    print(date)"
   ]
  },
  {
   "cell_type": "code",
   "execution_count": null,
   "metadata": {},
   "outputs": [],
   "source": [
    "# C)\n",
    "cursor.execute('''\n",
    "               SELECT alunos.nome, cursos.nome_curso \n",
    "               FROM alunos INNER JOIN cursos WHERE NOTA>7 and alunos.curso_id= cursos.id''')\n",
    "dates = cursor.fetchall()\n",
    "for date in dates:\n",
    "    print(date)"
   ]
  },
  {
   "cell_type": "markdown",
   "metadata": {},
   "source": [
    "Listar conteúdo das tabelas\n",
    "7 - Crie um script para alterar a tabela de 'alunos' retirando as colunas nota e curso_id."
   ]
  },
  {
   "cell_type": "code",
   "execution_count": null,
   "metadata": {},
   "outputs": [],
   "source": [
    "# cursor.execute('''ALTER TABLE cursos DROP CONSTRAINT PRIMARY KEY id''') # removendo restrição de FK\n",
    "cursor.execute('PRAGMA FOREIGN_KEYS = OFF')\n",
    "cursor.execute('''ALTER TABLE alunos DROP COLUMN curso_id''') # Em seguida, remova a coluna\n",
    "# cursor.execute('''ALTER TABLE alunos DROP COLUMN nota''')\n",
    "BD_ESCOLA.commit()\n",
    "cursor.execute('SELECT * FROM alunos')\n",
    "dados = cursor.fetchall()\n",
    "for dado in dados:\n",
    "    print(dado)"
   ]
  },
  {
   "cell_type": "markdown",
   "metadata": {},
   "source": [
    "8 - Crie uma tabela 'Disciplinas' para receber as colunas nota e curso_id que devem ser retiradas da tabela alunos e os dados respectivos e adicione uma chave estrangeira para o aluno_id"
   ]
  },
  {
   "cell_type": "code",
   "execution_count": null,
   "metadata": {},
   "outputs": [],
   "source": [
    "cursor.execute('''CREATE TABLE IF NOT EXISTS disciplinas LIKE (nota,curso_id) FROM alunos\n",
    "    INSERT INTO disciplinas\n",
    "(nota, curso_id, ...)\n",
    "SELECT nota, curso_id, ...\n",
    "FROM alunos;\n",
    "    nota DOUBLE NOT NULL, \n",
    "    curso_id INTEGER AUTOINCREMENT NOT NULL,\n",
    "    nome TEXT NOT NULL\n",
    "    \n",
    "    )''')\n",
    "BD_ESCOLA.commit()"
   ]
  },
  {
   "cell_type": "markdown",
   "metadata": {},
   "source": [
    "9 - Atualizar os nomes das disciplinas dos cursos conforme a seguir:\n",
    "\n",
    "1 - Curso de Matemática 1 - FUNDAMENTOS DE ÁLGEBRA 3 - GEOMETRIA PLANA 6 - HISTÓRIA DA MATEMÁTICA\n",
    "2 - Curso de Hstória 2 - HISTÓRIA ANTIGA 5 - HISTÓRIA MODERNA 7 - HISTÓRIA DA IDADE MÉDIA\n",
    "3 - Curso de Ciências 4 - CIENCIAS DA NATUREZA 8 - CIENCIAS FISICAS E QUIMICAS 9 - CIENCIAS BIOLOGICAS"
   ]
  },
  {
   "cell_type": "code",
   "execution_count": null,
   "metadata": {},
   "outputs": [],
   "source": [
    "cursor.execute('''INSERT INTO alunos (nome) VALUES (?)''', ('MATEMÁTICA',) )\n",
    "cursor.execute('''INSERT INTO alunos (nome) VALUES (?)''', ('FUNDAMENTOS DE ÁLGEBRA,') )\n",
    "cursor.execute('''INSERT INTO alunos (nome) VALUES (?)''', ('GEOMETRIA PLANA',) )\n",
    "cursor.execute('''INSERT INTO alunos (nome) VALUES (?)''', ('HISTÓRIA DA MATEMÁTICA',) )\n",
    "cursor.execute('''INSERT INTO alunos (nome) VALUES (?)''', ('CURSO DE HISTÓRIA',) )\n",
    "cursor.execute('''INSERT INTO alunos (nome) VALUES (?)''', ('HISTÓRIA ANTIGA',) )\n",
    "cursor.execute('''INSERT INTO alunos (nome) VALUES (?)''', ('HISTÓRIA MODERNA',) )\n",
    "cursor.execute('''INSERT INTO alunos (nome) VALUES (?)''', ('HISTÓRIA DA IDADE MÉDIA',) )\n",
    "cursor.execute('''INSERT INTO alunos (nome) VALUES (?)''', ('CURSO DE CIÊNCIAS',) )\n",
    "cursor.execute('''INSERT INTO alunos (nome) VALUES (?)''', ('CIÊNCIAS DA NATUREZA',) )\n",
    "cursor.execute('''INSERT INTO alunos (nome) VALUES (?)''', ('CIÊNCIAS FÍSICAS E QUÍMICAS',) )\n",
    "cursor.execute('''INSERT INTO alunos (nome) VALUES (?)''', ('CIÊNCIAS BIOLOGICAS',) )\n",
    "BD_ESCOLA.commit()"
   ]
  },
  {
   "cell_type": "code",
   "execution_count": null,
   "metadata": {},
   "outputs": [],
   "source": [
    "cursor.execute(\"DELETE FROM cursos WHERE nome_curso = ?\", (\"Modelagem\",))\n",
    "cursor.execute(\"SELECT * FROM alunos WHERE nota>6 \")\n",
    "dados = cursor.fetchall()\n",
    "for dado in dados:\n",
    "    print(dado)"
   ]
  },
  {
   "cell_type": "code",
   "execution_count": null,
   "metadata": {},
   "outputs": [],
   "source": [
    "BD_ESCOLA.close()"
   ]
  },
  {
   "cell_type": "code",
   "execution_count": null,
   "metadata": {},
   "outputs": [],
   "source": []
  }
 ],
 "metadata": {
  "kernelspec": {
   "display_name": "Python 3",
   "language": "python",
   "name": "python3"
  },
  "language_info": {
   "codemirror_mode": {
    "name": "ipython",
    "version": 3
   },
   "file_extension": ".py",
   "mimetype": "text/x-python",
   "name": "python",
   "nbconvert_exporter": "python",
   "pygments_lexer": "ipython3",
   "version": "3.12.3"
  }
 },
 "nbformat": 4,
 "nbformat_minor": 2
}
