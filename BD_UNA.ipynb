{
 "cells": [
  {
   "cell_type": "markdown",
   "metadata": {},
   "source": [
    "1 - Crie um banco de dados\n",
    "\n",
    "\n",
    "\n"
   ]
  },
  {
   "cell_type": "code",
   "execution_count": 36,
   "metadata": {},
   "outputs": [],
   "source": [
    "import sqlite3 as sql\n",
    "BD_ESCOLA = sql.connect('BD_ESCOLA')\n",
    "cursor = BD_ESCOLA.cursor()"
   ]
  },
  {
   "cell_type": "markdown",
   "metadata": {},
   "source": [
    "EXCLUINDO QUANDO HOUVER ERRO"
   ]
  },
  {
   "cell_type": "code",
   "execution_count": 185,
   "metadata": {},
   "outputs": [
    {
     "ename": "OperationalError",
     "evalue": "no such table: cursos",
     "output_type": "error",
     "traceback": [
      "\u001b[1;31m---------------------------------------------------------------------------\u001b[0m",
      "\u001b[1;31mOperationalError\u001b[0m                          Traceback (most recent call last)",
      "Cell \u001b[1;32mIn[185], line 1\u001b[0m\n\u001b[1;32m----> 1\u001b[0m \u001b[43mcursor\u001b[49m\u001b[38;5;241;43m.\u001b[39;49m\u001b[43mexecute\u001b[49m\u001b[43m(\u001b[49m\u001b[38;5;124;43m'\u001b[39;49m\u001b[38;5;124;43mDROP TABLE cursos\u001b[39;49m\u001b[38;5;124;43m'\u001b[39;49m\u001b[43m)\u001b[49m\n\u001b[0;32m      2\u001b[0m \u001b[38;5;66;03m# cursor.execute('DROP TABLE alunos')\u001b[39;00m\n",
      "\u001b[1;31mOperationalError\u001b[0m: no such table: cursos"
     ]
    }
   ],
   "source": [
    "cursor.execute('DROP TABLE cursos')\n",
    "cursor.execute('DROP TABLE alunos')"
   ]
  },
  {
   "cell_type": "markdown",
   "metadata": {},
   "source": [
    "2 - Crie uma tabela chamada 'cursos' para armazenar informações sobre os cursos. A tabela deve ter uma coluna id que será a chave primária e outra com o nome do curso.\n",
    "\n"
   ]
  },
  {
   "cell_type": "code",
   "execution_count": 166,
   "metadata": {},
   "outputs": [],
   "source": [
    "cursor.execute('''CREATE TABLE IF NOT EXISTS cursos (id INTENGER PRYMARY KEY  , nome_curso TEXT NOT NULL)''')\n",
    "BD_ESCOLA.commit()"
   ]
  },
  {
   "cell_type": "markdown",
   "metadata": {},
   "source": [
    "3 - Insira alguns registros na tabela 'cursos'\n"
   ]
  },
  {
   "cell_type": "code",
   "execution_count": 167,
   "metadata": {},
   "outputs": [
    {
     "data": {
      "text/plain": [
       "<sqlite3.Cursor at 0x1f3c8b060c0>"
      ]
     },
     "execution_count": 167,
     "metadata": {},
     "output_type": "execute_result"
    }
   ],
   "source": [
    "cursor.execute(\"INSERT INTO cursos (nome_curso) VALUES (?)\", (\"Modelagem de Software\",))\n",
    "cursor.execute(\"INSERT INTO cursos (nome_curso) VALUES (?)\", (\"Vida e Carreira\",))\n",
    "cursor.execute(\"INSERT INTO cursos (nome_curso) VALUES (?)\", (\"Soluções Computacionais\",))\n",
    "cursor.execute(\"INSERT INTO cursos (nome_curso) VALUES (?)\", (\"Ambientes Virtuais\",))\n"
   ]
  },
  {
   "cell_type": "markdown",
   "metadata": {},
   "source": [
    "\n",
    "4 - Crie uma tabela chamada 'alunos' com as seguintes colunas: id, nome, nota e curso_id\n",
    "\n"
   ]
  },
  {
   "cell_type": "code",
   "execution_count": 168,
   "metadata": {},
   "outputs": [
    {
     "data": {
      "text/plain": [
       "<sqlite3.Cursor at 0x1f3c8b060c0>"
      ]
     },
     "execution_count": 168,
     "metadata": {},
     "output_type": "execute_result"
    }
   ],
   "source": [
    "cursor.execute('CREATE TABLE IF NOT EXISTS alunos(id INTENGER PRYMARY KEY AI, nome TEXT NOT NULL , nota REAL NOT NULL,curso_id_FK INTENGER FK REFERENCES cursos (curso_id))')"
   ]
  },
  {
   "cell_type": "markdown",
   "metadata": {},
   "source": [
    "5 - Insira alguns registros na tabela 'alunos' com referência aos cursos\n",
    "\n"
   ]
  },
  {
   "cell_type": "code",
   "execution_count": 169,
   "metadata": {},
   "outputs": [
    {
     "data": {
      "text/plain": [
       "<sqlite3.Cursor at 0x1f3c8b060c0>"
      ]
     },
     "execution_count": 169,
     "metadata": {},
     "output_type": "execute_result"
    }
   ],
   "source": [
    "cursor.execute('INSERT INTO alunos (nome,nota,curso_id_FK) VALUES (?,?,?)', ('Gabriel',10,1))\n",
    "cursor.execute('INSERT INTO alunos (nome,nota,curso_id_FK) VALUES (?,?,?)', ('Pedro',8,2))\n",
    "cursor.execute('INSERT INTO alunos (nome,nota,curso_id_FK) VALUES (?,?,?)', ('Pablo',5,2))\n",
    "cursor.execute('INSERT INTO alunos (nome,nota,curso_id_FK) VALUES (?,?,?)', ('Paulo',4,1))\n",
    "cursor.execute('INSERT INTO alunos (nome,nota,curso_id_FK) VALUES (?,?,?)', ('Daniel',6,2))\n",
    "cursor.execute('INSERT INTO alunos (nome,nota,curso_id_FK) VALUES (?,?,?)', ('Arthur',5,2))\n",
    "cursor.execute('INSERT INTO alunos (nome,nota,curso_id_FK) VALUES (?,?,?)', ('Guilherme',7,1))\n",
    "cursor.execute('INSERT INTO alunos (nome,nota,curso_id_FK) VALUES (?,?,?)', ('Eduarda',9,1))"
   ]
  },
  {
   "cell_type": "markdown",
   "metadata": {},
   "source": [
    "6 - Faça consultas SQL para recuperar informações dos alunos e seus cursos \n",
    "\n",
    "a. Selecione todos os alunos e seus cursos\n",
    "\n",
    "b. Selecione os alunos com notas acima de 7\n",
    "\n",
    "c. Selecione os alunos com nota acima de 7 e seus respectivos cursos\n",
    "\n"
   ]
  },
  {
   "cell_type": "code",
   "execution_count": 175,
   "metadata": {},
   "outputs": [],
   "source": [
    "# A)\n",
    "cursor.execute('SELECT nome,nome_curso FROM')\n"
   ]
  },
  {
   "cell_type": "code",
   "execution_count": 177,
   "metadata": {},
   "outputs": [],
   "source": [
    "# B)\n",
    "cursor.execute('SELECT * FROM alunos WHERE nota>90')\n",
    "dates = cursor.fetchall()\n",
    "for date in dates:\n",
    "    print(date)"
   ]
  },
  {
   "cell_type": "code",
   "execution_count": null,
   "metadata": {},
   "outputs": [],
   "source": [
    "# C)\n",
    "cursor.execute('SELECT * FROM alunos WHERE NOTA>')"
   ]
  },
  {
   "cell_type": "code",
   "execution_count": null,
   "metadata": {},
   "outputs": [],
   "source": [
    "cursor.execute('SELECT *  AS alunos FROM cursos INNER JOIN cursos ON a.curso_id_FK=c.id ')"
   ]
  },
  {
   "cell_type": "markdown",
   "metadata": {},
   "source": [
    "Listar conteúdo das tabelas\n",
    "\n",
    "7 - Crie um script para alterar a tabela de 'alunos' retirando as colunas nota e curso_id.\n"
   ]
  },
  {
   "cell_type": "code",
   "execution_count": null,
   "metadata": {},
   "outputs": [],
   "source": []
  },
  {
   "cell_type": "markdown",
   "metadata": {},
   "source": [
    "8 - Crie uma tabela 'Disciplinas' para receber as colunas nota e curso_id que devem ser retiradas da tabela alunos e os dados respectivos e adicione uma chave estrangeira para o aluno_id\n",
    "\n"
   ]
  },
  {
   "cell_type": "code",
   "execution_count": null,
   "metadata": {},
   "outputs": [],
   "source": []
  },
  {
   "cell_type": "markdown",
   "metadata": {},
   "source": [
    "9 - Atualizar os nomes das disciplinas dos cursos conforme a seguir:\n",
    "\n",
    "1 - Curso de Matemática 1 - FUNDAMENTOS DE ÁLGEBRA 3 - GEOMETRIA PLANA 6 - HISTÓRIA DA MATEMÁTICA\n",
    "2 - Curso de Hstória 2 - HISTÓRIA ANTIGA 5 - HISTÓRIA MODERNA 7 - HISTÓRIA DA IDADE MÉDIA\n",
    "3 - Curso de Ciências 4 - CIENCIAS DA NATUREZA 8 - CIENCIAS FISICAS E QUIMICAS 9 - CIENCIAS BIOLOGICAS"
   ]
  },
  {
   "cell_type": "code",
   "execution_count": null,
   "metadata": {},
   "outputs": [],
   "source": [
    "cursor.execute(\"DELETE FROM cursos WHERE nome_curso = ?\", (\"Modelagem\",))"
   ]
  },
  {
   "cell_type": "code",
   "execution_count": 182,
   "metadata": {},
   "outputs": [
    {
     "name": "stdout",
     "output_type": "stream",
     "text": [
      "(None, 'Pablo', 85.0, 2)\n",
      "(None, 'Paulo', 89.0, 2)\n",
      "(None, 'Daniel', 82.0, 2)\n"
     ]
    }
   ],
   "source": [
    "cursor.execute(\"SELECT * FROM alunos WHERE nota>9 AND curso_id_FK=1\")\n",
    "dados = cursor.fetchall()\n",
    "for dado in dados:\n",
    "    print(dado)"
   ]
  },
  {
   "cell_type": "code",
   "execution_count": null,
   "metadata": {},
   "outputs": [],
   "source": [
    "BD_ESCOLA.close()"
   ]
  },
  {
   "cell_type": "code",
   "execution_count": null,
   "metadata": {},
   "outputs": [],
   "source": []
  }
 ],
 "metadata": {
  "kernelspec": {
   "display_name": "Python 3",
   "language": "python",
   "name": "python3"
  },
  "language_info": {
   "codemirror_mode": {
    "name": "ipython",
    "version": 3
   },
   "file_extension": ".py",
   "mimetype": "text/x-python",
   "name": "python",
   "nbconvert_exporter": "python",
   "pygments_lexer": "ipython3",
   "version": "3.12.3"
  }
 },
 "nbformat": 4,
 "nbformat_minor": 2
}
